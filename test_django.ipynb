{
 "cells": [
  {
   "cell_type": "code",
   "execution_count": 1,
   "id": "5ab01435-0ba3-42b2-a97c-eb435661fa10",
   "metadata": {},
   "outputs": [],
   "source": [
    "!django-admin startproject helloworld"
   ]
  },
  {
   "cell_type": "markdown",
   "id": "43e353b8-80de-4c05-95c6-7d3b1537fd5f",
   "metadata": {},
   "source": [
    "# helloworld_project\n",
    "## - helloworld\n",
    "### - settings.py: 프로젝트의 환경/구성을 저장하는 파일\n",
    "### - urls.py: Django 프로젝트의 URL 관리 파일\n",
    "### - 기타 덜 중요한 파일\n",
    "## - manage.py: 서버를 작동시키는 중요한 파일"
   ]
  },
  {
   "cell_type": "code",
   "execution_count": 2,
   "id": "f268fd8e-4a5b-450c-8d1f-4cc65a9a2b56",
   "metadata": {},
   "outputs": [],
   "source": [
    "import os"
   ]
  },
  {
   "cell_type": "code",
   "execution_count": 3,
   "id": "25dd5a49-f05e-4409-8399-2c31d1fdbfc9",
   "metadata": {},
   "outputs": [],
   "source": [
    "os.chdir('./helloworld_project/')"
   ]
  },
  {
   "cell_type": "code",
   "execution_count": 4,
   "id": "d4f1758f-c350-41a2-9955-85174819c110",
   "metadata": {},
   "outputs": [],
   "source": [
    "!python manage.py startapp print"
   ]
  },
  {
   "cell_type": "code",
   "execution_count": 8,
   "id": "1db64df1-bd08-4cfb-8a1c-25394d372f84",
   "metadata": {},
   "outputs": [],
   "source": [
    "os.chdir('../')"
   ]
  },
  {
   "cell_type": "code",
   "execution_count": 16,
   "id": "20167da9-4cc0-470a-a679-1a7fc813b7d0",
   "metadata": {},
   "outputs": [
    {
     "name": "stderr",
     "output_type": "stream",
     "text": [
      "CommandError: '.\\print\\template' is not a valid app name. Please make sure the name is a valid identifier.\n"
     ]
    }
   ],
   "source": [
    "!python manage.py startapp .\\print\\template"
   ]
  },
  {
   "cell_type": "code",
   "execution_count": 15,
   "id": "680430cb-109e-4af6-9eeb-c6af5e2e5d42",
   "metadata": {},
   "outputs": [
    {
     "data": {
      "text/plain": [
       "'C:\\\\python-workspace\\\\01_공부\\\\Django\\\\helloworld_project'"
      ]
     },
     "execution_count": 15,
     "metadata": {},
     "output_type": "execute_result"
    }
   ],
   "source": [
    "pwd"
   ]
  },
  {
   "cell_type": "code",
   "execution_count": null,
   "id": "e03bb85b-b6a3-4ca1-a92c-ed65687647db",
   "metadata": {},
   "outputs": [],
   "source": []
  }
 ],
 "metadata": {
  "kernelspec": {
   "display_name": "Python 3",
   "language": "python",
   "name": "python3"
  },
  "language_info": {
   "codemirror_mode": {
    "name": "ipython",
    "version": 3
   },
   "file_extension": ".py",
   "mimetype": "text/x-python",
   "name": "python",
   "nbconvert_exporter": "python",
   "pygments_lexer": "ipython3",
   "version": "3.8.8"
  }
 },
 "nbformat": 4,
 "nbformat_minor": 5
}
